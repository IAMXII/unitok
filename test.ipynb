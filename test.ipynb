{
 "cells": [
  {
   "cell_type": "code",
   "execution_count": 16,
   "metadata": {},
   "outputs": [
    {
     "name": "stdout",
     "output_type": "stream",
     "text": [
      "4.736570835113525\n"
     ]
    }
   ],
   "source": [
    "import gzip\n",
    "import json\n",
    "import os\n",
    "import numpy as np\n",
    "file_path = '/home/work/afs_input/wangzixuan17/Bench2Drive/Accident_Town12_Route1744_Weather22/anno'\n",
    "file = os.path.join(file_path, '00123.json.gz')\n",
    "# 读取压缩的 JSON 文件\n",
    "with gzip.open(file, 'rt', encoding='utf-8') as f:\n",
    "    data = json.load(f)\n",
    "# data = np.load(file)\n",
    "# 使用 data 变量\n",
    "print(data['theta'])\n"
   ]
  },
  {
   "cell_type": "code",
   "execution_count": 2,
   "metadata": {},
   "outputs": [
    {
     "name": "stdout",
     "output_type": "stream",
     "text": [
      "Found 13638 tar.gz files.\n"
     ]
    },
    {
     "name": "stderr",
     "output_type": "stream",
     "text": [
      "  0%|          | 0/13638 [00:24<?, ?it/s]\n"
     ]
    },
    {
     "ename": "KeyboardInterrupt",
     "evalue": "",
     "output_type": "error",
     "traceback": [
      "\u001B[0;31m---------------------------------------------------------------------------\u001B[0m",
      "\u001B[0;31mIndexError\u001B[0m                                Traceback (most recent call last)",
      "File \u001B[0;32m~/anaconda3/envs/data/lib/python3.10/multiprocessing/pool.py:856\u001B[0m, in \u001B[0;36mIMapIterator.next\u001B[0;34m(self, timeout)\u001B[0m\n\u001B[1;32m    855\u001B[0m \u001B[39mtry\u001B[39;00m:\n\u001B[0;32m--> 856\u001B[0m     item \u001B[39m=\u001B[39m \u001B[39mself\u001B[39;49m\u001B[39m.\u001B[39;49m_items\u001B[39m.\u001B[39;49mpopleft()\n\u001B[1;32m    857\u001B[0m \u001B[39mexcept\u001B[39;00m \u001B[39mIndexError\u001B[39;00m:\n",
      "\u001B[0;31mIndexError\u001B[0m: pop from an empty deque",
      "\nDuring handling of the above exception, another exception occurred:\n",
      "\u001B[0;31mKeyboardInterrupt\u001B[0m                         Traceback (most recent call last)",
      "\u001B[1;32m/data/test.ipynb Cell 2\u001B[0m line \u001B[0;36m6\n\u001B[1;32m     <a href='vscode-notebook-cell://icoding.baidu-int.com:443/data/test.ipynb#W1sdnNjb2RlLXJlbW90ZQ%3D%3D?line=59'>60</a>\u001B[0m     \u001B[39mprint\u001B[39m(\u001B[39mf\u001B[39m\u001B[39m\"\u001B[39m\u001B[39mDone. Success count: \u001B[39m\u001B[39m{\u001B[39;00m\u001B[39msum\u001B[39m(results)\u001B[39m}\u001B[39;00m\u001B[39m / \u001B[39m\u001B[39m{\u001B[39;00m\u001B[39mlen\u001B[39m(tar_files)\u001B[39m}\u001B[39;00m\u001B[39m\"\u001B[39m)\n\u001B[1;32m     <a href='vscode-notebook-cell://icoding.baidu-int.com:443/data/test.ipynb#W1sdnNjb2RlLXJlbW90ZQ%3D%3D?line=61'>62</a>\u001B[0m \u001B[39mif\u001B[39;00m \u001B[39m__name__\u001B[39m \u001B[39m==\u001B[39m \u001B[39m'\u001B[39m\u001B[39m__main__\u001B[39m\u001B[39m'\u001B[39m:\n\u001B[0;32m---> <a href='vscode-notebook-cell://icoding.baidu-int.com:443/data/test.ipynb#W1sdnNjb2RlLXJlbW90ZQ%3D%3D?line=62'>63</a>\u001B[0m     main()\n",
      "\u001B[1;32m/data/test.ipynb Cell 2\u001B[0m line \u001B[0;36m5\n\u001B[1;32m     <a href='vscode-notebook-cell://icoding.baidu-int.com:443/data/test.ipynb#W1sdnNjb2RlLXJlbW90ZQ%3D%3D?line=48'>49</a>\u001B[0m \u001B[39mprint\u001B[39m(\u001B[39mf\u001B[39m\u001B[39m\"\u001B[39m\u001B[39mFound \u001B[39m\u001B[39m{\u001B[39;00m\u001B[39mlen\u001B[39m(tar_files)\u001B[39m}\u001B[39;00m\u001B[39m tar.gz files.\u001B[39m\u001B[39m\"\u001B[39m)\n\u001B[1;32m     <a href='vscode-notebook-cell://icoding.baidu-int.com:443/data/test.ipynb#W1sdnNjb2RlLXJlbW90ZQ%3D%3D?line=50'>51</a>\u001B[0m \u001B[39mwith\u001B[39;00m Pool(processes\u001B[39m=\u001B[39mcpu_count()) \u001B[39mas\u001B[39;00m pool:\n\u001B[0;32m---> <a href='vscode-notebook-cell://icoding.baidu-int.com:443/data/test.ipynb#W1sdnNjb2RlLXJlbW90ZQ%3D%3D?line=51'>52</a>\u001B[0m     results \u001B[39m=\u001B[39m \u001B[39mlist\u001B[39;49m(tqdm(\n\u001B[1;32m     <a href='vscode-notebook-cell://icoding.baidu-int.com:443/data/test.ipynb#W1sdnNjb2RlLXJlbW90ZQ%3D%3D?line=52'>53</a>\u001B[0m         pool\u001B[39m.\u001B[39;49mimap_unordered(\n\u001B[1;32m     <a href='vscode-notebook-cell://icoding.baidu-int.com:443/data/test.ipynb#W1sdnNjb2RlLXJlbW90ZQ%3D%3D?line=53'>54</a>\u001B[0m             partial(extract_selected, output_dir\u001B[39m=\u001B[39;49moutput_dir, extract_folders\u001B[39m=\u001B[39;49mextract_folders),\n\u001B[1;32m     <a href='vscode-notebook-cell://icoding.baidu-int.com:443/data/test.ipynb#W1sdnNjb2RlLXJlbW90ZQ%3D%3D?line=54'>55</a>\u001B[0m             tar_files\n\u001B[1;32m     <a href='vscode-notebook-cell://icoding.baidu-int.com:443/data/test.ipynb#W1sdnNjb2RlLXJlbW90ZQ%3D%3D?line=55'>56</a>\u001B[0m         ),\n\u001B[1;32m     <a href='vscode-notebook-cell://icoding.baidu-int.com:443/data/test.ipynb#W1sdnNjb2RlLXJlbW90ZQ%3D%3D?line=56'>57</a>\u001B[0m         total\u001B[39m=\u001B[39;49m\u001B[39mlen\u001B[39;49m(tar_files)\n\u001B[1;32m     <a href='vscode-notebook-cell://icoding.baidu-int.com:443/data/test.ipynb#W1sdnNjb2RlLXJlbW90ZQ%3D%3D?line=57'>58</a>\u001B[0m     ))\n\u001B[1;32m     <a href='vscode-notebook-cell://icoding.baidu-int.com:443/data/test.ipynb#W1sdnNjb2RlLXJlbW90ZQ%3D%3D?line=59'>60</a>\u001B[0m \u001B[39mprint\u001B[39m(\u001B[39mf\u001B[39m\u001B[39m\"\u001B[39m\u001B[39mDone. Success count: \u001B[39m\u001B[39m{\u001B[39;00m\u001B[39msum\u001B[39m(results)\u001B[39m}\u001B[39;00m\u001B[39m / \u001B[39m\u001B[39m{\u001B[39;00m\u001B[39mlen\u001B[39m(tar_files)\u001B[39m}\u001B[39;00m\u001B[39m\"\u001B[39m)\n",
      "File \u001B[0;32m~/anaconda3/envs/data/lib/python3.10/site-packages/tqdm/std.py:1181\u001B[0m, in \u001B[0;36mtqdm.__iter__\u001B[0;34m(self)\u001B[0m\n\u001B[1;32m   1178\u001B[0m time \u001B[39m=\u001B[39m \u001B[39mself\u001B[39m\u001B[39m.\u001B[39m_time\n\u001B[1;32m   1180\u001B[0m \u001B[39mtry\u001B[39;00m:\n\u001B[0;32m-> 1181\u001B[0m     \u001B[39mfor\u001B[39;00m obj \u001B[39min\u001B[39;00m iterable:\n\u001B[1;32m   1182\u001B[0m         \u001B[39myield\u001B[39;00m obj\n\u001B[1;32m   1183\u001B[0m         \u001B[39m# Update and possibly print the progressbar.\u001B[39;00m\n\u001B[1;32m   1184\u001B[0m         \u001B[39m# Note: does not call self.update(1) for speed optimisation.\u001B[39;00m\n",
      "File \u001B[0;32m~/anaconda3/envs/data/lib/python3.10/multiprocessing/pool.py:861\u001B[0m, in \u001B[0;36mIMapIterator.next\u001B[0;34m(self, timeout)\u001B[0m\n\u001B[1;32m    859\u001B[0m     \u001B[39mself\u001B[39m\u001B[39m.\u001B[39m_pool \u001B[39m=\u001B[39m \u001B[39mNone\u001B[39;00m\n\u001B[1;32m    860\u001B[0m     \u001B[39mraise\u001B[39;00m \u001B[39mStopIteration\u001B[39;00m \u001B[39mfrom\u001B[39;00m\u001B[39m \u001B[39m\u001B[39mNone\u001B[39;00m\n\u001B[0;32m--> 861\u001B[0m \u001B[39mself\u001B[39;49m\u001B[39m.\u001B[39;49m_cond\u001B[39m.\u001B[39;49mwait(timeout)\n\u001B[1;32m    862\u001B[0m \u001B[39mtry\u001B[39;00m:\n\u001B[1;32m    863\u001B[0m     item \u001B[39m=\u001B[39m \u001B[39mself\u001B[39m\u001B[39m.\u001B[39m_items\u001B[39m.\u001B[39mpopleft()\n",
      "File \u001B[0;32m~/anaconda3/envs/data/lib/python3.10/threading.py:320\u001B[0m, in \u001B[0;36mCondition.wait\u001B[0;34m(self, timeout)\u001B[0m\n\u001B[1;32m    318\u001B[0m \u001B[39mtry\u001B[39;00m:    \u001B[39m# restore state no matter what (e.g., KeyboardInterrupt)\u001B[39;00m\n\u001B[1;32m    319\u001B[0m     \u001B[39mif\u001B[39;00m timeout \u001B[39mis\u001B[39;00m \u001B[39mNone\u001B[39;00m:\n\u001B[0;32m--> 320\u001B[0m         waiter\u001B[39m.\u001B[39;49macquire()\n\u001B[1;32m    321\u001B[0m         gotit \u001B[39m=\u001B[39m \u001B[39mTrue\u001B[39;00m\n\u001B[1;32m    322\u001B[0m     \u001B[39melse\u001B[39;00m:\n",
      "\u001B[0;31mKeyboardInterrupt\u001B[0m: "
     ]
    }
   ],
   "source": [
    "import os\n",
    "import tarfile\n",
    "from multiprocessing import Pool, cpu_count\n",
    "from tqdm import tqdm\n",
    "from functools import partial\n",
    "\n",
    "# ======================== #\n",
    "# 设置路径\n",
    "# ======================== #\n",
    "tar_dir = '/home/work/afs_input/wangzixuan17/Bench2Drive'         # 存放 .tar.gz 文件的目录\n",
    "output_dir = '/data/bench2drive'        # 提取后保存的根目录\n",
    "extract_folders = ['anno', 'camera/rgb_front']\n",
    "\n",
    "# === 提取函数 ===\n",
    "def extract_selected(tar_path, output_dir, extract_folders):\n",
    "    try:\n",
    "        # 提取文件名（无扩展名）\n",
    "        base_name = os.path.splitext(os.path.splitext(os.path.basename(tar_path))[0])[0]\n",
    "        output_subdir = os.path.join(output_dir, base_name)\n",
    "\n",
    "        with tarfile.open(tar_path, 'r:gz') as tar:\n",
    "            for member in tar.getmembers():\n",
    "                # member.name 示例：AccidentTwoWays_Town05_Route25864_Weather12/camera/rgb_front/0001.jpg\n",
    "                parts = member.name.split('/', 1)\n",
    "                if len(parts) < 2:\n",
    "                    continue\n",
    "                relative_path = parts[1]  # 去掉包裹目录，如 camera/rgb_front/0001.jpg\n",
    "\n",
    "                # 严格限制仅提取 camera/rgb_front/ 和 anno/\n",
    "                if not any(relative_path.startswith(folder + '/') for folder in extract_folders):\n",
    "                    continue\n",
    "\n",
    "                # 构建目标提取路径\n",
    "                extract_path = os.path.join(output_subdir, relative_path)\n",
    "                os.makedirs(os.path.dirname(extract_path), exist_ok=True)\n",
    "\n",
    "                # 仅提取文件（跳过目录等）\n",
    "                if member.isfile():\n",
    "                    with tar.extractfile(member) as src, open(extract_path, 'wb') as dst:\n",
    "                        dst.write(src.read())\n",
    "        return True\n",
    "    except Exception as e:\n",
    "        print(f\"[ERROR] Failed to extract {tar_path}: {e}\")\n",
    "        return False\n",
    "\n",
    "# === 多进程主程序 ===\n",
    "def main():\n",
    "    tar_files = [os.path.join(tar_dir, f) for f in os.listdir(tar_dir) if f.endswith('.tar.gz')]\n",
    "    print(f\"Found {len(tar_files)} tar.gz files.\")\n",
    "    \n",
    "    with Pool(processes=cpu_count()) as pool:\n",
    "        results = list(tqdm(\n",
    "            pool.imap_unordered(\n",
    "                partial(extract_selected, output_dir=output_dir, extract_folders=extract_folders),\n",
    "                tar_files\n",
    "            ),\n",
    "            total=len(tar_files)\n",
    "        ))\n",
    "\n",
    "    print(f\"Done. Success count: {sum(results)} / {len(tar_files)}\")\n",
    "\n",
    "if __name__ == '__main__':\n",
    "    main()"
   ]
  },
  {
   "cell_type": "code",
   "execution_count": 8,
   "metadata": {},
   "outputs": [
    {
     "name": "stderr",
     "output_type": "stream",
     "text": [
      "100%|██████████| 9217/9217 [50:56<00:00,  3.02it/s]  \n"
     ]
    }
   ],
   "source": [
    "import os\n",
    "import numpy as np\n",
    "import gzip\n",
    "import json\n",
    "from tqdm import tqdm\n",
    "base_path = '/data/bench2drive'\n",
    "# seq = 'Accident_Town12_Route1744_Weather22'\n",
    "\n",
    "def main():\n",
    "    seq_name = sorted(os.listdir(base_path))\n",
    "    print(seq_name)\n",
    "    fflushed\n",
    "    for seq in tqdm(seq_name):\n",
    "        os.makedirs(os.path.join(base_path, seq, 'decision'),exist_ok=True)\n",
    "        anno_path = os.path.join(base_path, seq, 'anno')\n",
    "        json_name = sorted(os.listdir(anno_path))\n",
    "        for json_f in json_name:\n",
    "            json_path = os.path.join(anno_path, json_f)\n",
    "            frame = {}\n",
    "            with gzip.open(json_path, 'rb') as f:\n",
    "                data = json.load(f)\n",
    "                frame['ego_x'] = data['x']\n",
    "                frame['ego_y'] = data['y']\n",
    "                frame['ego_yaw'] = data['theta']\n",
    "            txt_path = os.path.join(os.path.dirname(anno_path),'decision')\n",
    "            txtx =os.path.join(txt_path,json_f.split('.')[0]+'.json')\n",
    "            with open(txtx,'w') as f:\n",
    "                f.write(json.dumps(frame))\n",
    "\n",
    "if __name__ == \"__main__\":\n",
    "    main()"
   ]
  },
  {
   "cell_type": "code",
   "execution_count": 3,
   "metadata": {},
   "outputs": [
    {
     "name": "stderr",
     "output_type": "stream",
     "text": [
      "100%|██████████| 9217/9217 [05:17<00:00, 29.00it/s]\n"
     ]
    }
   ],
   "source": [
    "import os\n",
    "import json\n",
    "import math\n",
    "from tqdm import tqdm\n",
    "\n",
    "def load_decision_jsons(decision_dir):\n",
    "    files = sorted(f for f in os.listdir(decision_dir) if f.endswith('.json'))\n",
    "    files.sort()  # 确保顺序\n",
    "    data = []\n",
    "    for f in files:\n",
    "        with open(os.path.join(decision_dir, f)) as jf:\n",
    "            content = json.load(jf)\n",
    "        data.append((f, content))\n",
    "    return data\n",
    "\n",
    "def global_to_local(x, y, origin_x, origin_y, origin_yaw):\n",
    "    dx = x - origin_x\n",
    "    dy = y - origin_y\n",
    "    cos_yaw = math.cos(-origin_yaw)\n",
    "    sin_yaw = math.sin(-origin_yaw)\n",
    "    x_local = dx * cos_yaw - dy * sin_yaw\n",
    "    y_local = dx * sin_yaw + dy * cos_yaw\n",
    "    return x_local, y_local\n",
    "\n",
    "def process_seq_folder(seq_path):\n",
    "    decision_dir = os.path.join(seq_path, \"decision\")\n",
    "    waypoint_dir = os.path.join(seq_path, \"waypoints\")\n",
    "    os.makedirs(waypoint_dir, exist_ok=True)\n",
    "\n",
    "    decision_data = load_decision_jsons(decision_dir)\n",
    "    total = len(decision_data)\n",
    "\n",
    "    for i, (fname, current) in enumerate(decision_data):\n",
    "        ego_x0 = current[\"ego_x\"]\n",
    "        ego_y0 = current[\"ego_y\"]\n",
    "        yaw0 = current[\"ego_yaw\"]\n",
    "\n",
    "        waypoints = []\n",
    "        for j in range(1, 9):  # 获取未来5帧\n",
    "            if i + j >= total:\n",
    "                break  # 超出边界\n",
    "            _, future = decision_data[i + j]\n",
    "            fx, fy = future[\"ego_x\"], future[\"ego_y\"]\n",
    "            lx, ly = global_to_local(fx, fy, ego_x0, ego_y0, yaw0)\n",
    "            waypoints.append({\"x\": lx, \"y\": ly})\n",
    "\n",
    "        output = {\n",
    "            \"waypoints\": waypoints,\n",
    "        }\n",
    "\n",
    "        with open(os.path.join(waypoint_dir, fname), 'w') as wf:\n",
    "            json.dump(output, wf, indent=2)\n",
    "\n",
    "def main(root_dir):\n",
    "    for seq_name in tqdm(os.listdir(root_dir)):\n",
    "    # seq_name = 'Accident_Town12_Route1744_Weather22'\n",
    "        seq_path = os.path.join(root_dir, seq_name)\n",
    "        if os.path.isdir(seq_path): #and \"seq\" in seq_name:\n",
    "            # print(f\"Processing {seq_name}\")\n",
    "            process_seq_folder(seq_path)\n",
    "\n",
    "if __name__ == \"__main__\":\n",
    "    # 修改为你的根目录路径\n",
    "    root_directory = \"/data/bench2drive\"\n",
    "    main(root_directory)\n"
   ]
  }
 ],
 "metadata": {
  "kernelspec": {
   "display_name": "unitok",
   "language": "python",
   "name": "python3"
  },
  "language_info": {
   "codemirror_mode": {
    "name": "ipython",
    "version": 3
   },
   "file_extension": ".py",
   "mimetype": "text/x-python",
   "name": "python",
   "nbconvert_exporter": "python",
   "pygments_lexer": "ipython3",
   "version": "3.10.18"
  }
 },
 "nbformat": 4,
 "nbformat_minor": 2
}
